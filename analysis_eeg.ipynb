{
 "cells": [
  {
   "cell_type": "markdown",
   "metadata": {},
   "source": [
    "# Import all SET metadata into MNE object\n",
    "\n",
    "### ToC\n",
    "- Import the full Matlab EEG.event struct containning `epoch_id`\n",
    "- Import SET with MNE (epoched data, basic event structure)\n",
    "    - Use SciPy's loadmat() to read the struct and make a pd.df ([source](https://github.com/mne-tools/mne-python/issues/3837#issuecomment-266460434) found [here](https://mne.discourse.group/t/creating-epochs-with-variable-event-latencies/3853)).\n",
    "- Look into the true event df to find epochs falling into set times"
   ]
  },
  {
   "cell_type": "markdown",
   "metadata": {},
   "source": [
    "### Imports"
   ]
  },
  {
   "cell_type": "code",
   "execution_count": 6,
   "metadata": {},
   "outputs": [],
   "source": [
    "import mne\n",
    "import os\n",
    "from scipy.io import loadmat\n",
    "\n",
    "import numpy as np\n",
    "import pandas as pd\n",
    "\n",
    "from hypyp import analyses"
   ]
  },
  {
   "cell_type": "markdown",
   "metadata": {},
   "source": [
    "Define path to data directory and define subject(s)"
   ]
  },
  {
   "cell_type": "code",
   "execution_count": 2,
   "metadata": {},
   "outputs": [],
   "source": [
    "path = \"../SNS_Data_Fall_2020/EEG/Cleaned_EEG/samples/\"\n",
    "\n",
    "subject_1 = \"SAMPLE-1_NS_epochs.set\"\n",
    "subject_2 = \"SAMPLE-2_NS_epochs.set\""
   ]
  },
  {
   "cell_type": "markdown",
   "metadata": {},
   "source": [
    "### Making a custom event df"
   ]
  },
  {
   "cell_type": "markdown",
   "metadata": {},
   "source": [
    "#### Instantiating the class\n",
    "\n",
    "Because MNE's function `read_epochs_eeglab()` does all the work of formating the SET file's events df into a MNE-formated df, we lose important information (here, the column `epoch_id`). The class we define bellow allow to keep all these metadata and provide tools to 'cut' it to specific periodes (i.e., a time window) dynamicaly (i.e., a sliding window!). \n",
    "\n",
    "Bellow we import a `class` that:\n",
    "- takes a SET file and read the (full) set of metadata associated to it (see `Class.df`)\n",
    "- create a `Class.df_sw` which only contains events from `Class.df` which falls between `sw_min` and `sw_max`.\n",
    "    - if `sw_min` and `sw_max` are defined (floats)\n",
    "    - or leave `Class.df_sw` as an empty pd.Dataframe if `sw_min` and `sw_max` are `None`\n",
    "\n",
    "> The function `read_set_events()` that enables reading MatLab's EEG.event struct embeded into a SET file into a panda df is sourced from [here](https://github.com/mne-tools/mne-python/issues/3837#issuecomment-266460434) and found [here](https://mne.discourse.group/t/creating-epochs-with-variable-event-latencies/3853)."
   ]
  },
  {
   "cell_type": "code",
   "execution_count": 3,
   "metadata": {},
   "outputs": [],
   "source": [
    "from utils import eeg_sw"
   ]
  },
  {
   "cell_type": "markdown",
   "metadata": {},
   "source": [
    "Instantiate the class twice for 2 subject.\n",
    "\n",
    "NB: We're not definin any sliding window parameter at the moment. "
   ]
  },
  {
   "cell_type": "code",
   "execution_count": 4,
   "metadata": {},
   "outputs": [],
   "source": [
    "# Channels to keep for analysis \n",
    "ch_to_keep_dic = [\n",
    "    'Fp1', 'Fp2', 'F3', 'F4', \n",
    "    'C3', 'C4', \n",
    "    'P3', 'P4', \n",
    "    'O1', 'O2', \n",
    "    'F7', 'F8', \n",
    "    'T7', 'T8', \n",
    "    'P7', 'P8', \n",
    "    'Fz', 'Cz', 'Pz', \n",
    "    'AFz', 'CPz', 'POz']\n",
    "\n",
    "#  We're exluding the channel 'M1' & 'M2'"
   ]
  },
  {
   "cell_type": "code",
   "execution_count": 5,
   "metadata": {},
   "outputs": [
    {
     "name": "stdout",
     "output_type": "stream",
     "text": [
      "Extracting parameters from /Users/zoubou/Documents/Scholar/Courses/UvA_M1_2/RP2_MBCS/RP2-Thesis/Analysis Thesis/MBCS_RP2_codes/../SNS_Data_Fall_2020/EEG/Cleaned_EEG/samples/SAMPLE-1_NS_epochs.set...\n",
      "Not setting metadata\n",
      "Not setting metadata\n",
      "288 matching events found\n",
      "No baseline correction applied\n",
      "0 projection items activated\n",
      "Ready.\n",
      "Extracting parameters from /Users/zoubou/Documents/Scholar/Courses/UvA_M1_2/RP2_MBCS/RP2-Thesis/Analysis Thesis/MBCS_RP2_codes/../SNS_Data_Fall_2020/EEG/Cleaned_EEG/samples/SAMPLE-2_NS_epochs.set...\n",
      "Not setting metadata\n"
     ]
    },
    {
     "name": "stderr",
     "output_type": "stream",
     "text": [
      "/Users/zoubou/Documents/Scholar/Courses/UvA_M1_2/RP2_MBCS/RP2-Thesis/Analysis Thesis/MBCS_RP2_codes/utils/eeg_sw.py:48: RuntimeWarning: Data file name in EEG.data (hyper_cleaned_SNS_013L_014S_N_NS_sub_1 epochs.fdt) is incorrect, the file name must have changed on disk, using the correct file name (SAMPLE-1_NS_epochs.fdt).\n",
      "  self.eeg = mne.io.read_epochs_eeglab(self.path).pick_channels(self.ch_to_keep, ordered=False)\n",
      "/Users/zoubou/Documents/Scholar/Courses/UvA_M1_2/RP2_MBCS/RP2-Thesis/Analysis Thesis/MBCS_RP2_codes/utils/eeg_sw.py:48: RuntimeWarning: Data file name in EEG.data (hyper_cleaned_SNS_013L_014S_N_NS_sub_2 epochs.fdt) is incorrect, the file name must have changed on disk, using the correct file name (SAMPLE-2_NS_epochs.fdt).\n",
      "  self.eeg = mne.io.read_epochs_eeglab(self.path).pick_channels(self.ch_to_keep, ordered=False)\n"
     ]
    },
    {
     "name": "stdout",
     "output_type": "stream",
     "text": [
      "Not setting metadata\n",
      "288 matching events found\n",
      "No baseline correction applied\n",
      "0 projection items activated\n",
      "Ready.\n"
     ]
    }
   ],
   "source": [
    "sub1 = eeg_sw.import_set_custom(path+subject_1, sw_min=None, sw_max=None, ch_to_keep=ch_to_keep_dic)\n",
    "sub2 = eeg_sw.import_set_custom(path+subject_2, sw_min=None, sw_max=None, ch_to_keep=ch_to_keep_dic)"
   ]
  },
  {
   "cell_type": "markdown",
   "metadata": {},
   "source": [
    "# HERE"
   ]
  },
  {
   "cell_type": "markdown",
   "metadata": {},
   "source": [
    "Compute the Welch Power Spectral Density"
   ]
  },
  {
   "cell_type": "code",
   "execution_count": 8,
   "metadata": {},
   "outputs": [
    {
     "name": "stdout",
     "output_type": "stream",
     "text": [
      "Effective window size : 2.000 (s)\n",
      "Effective window size : 2.000 (s)\n"
     ]
    }
   ],
   "source": [
    "psd1 = analyses.pow(\n",
    "    sub1.eeg, \n",
    "    fmin=7.5, fmax=11, \n",
    "    n_fft=1000, \n",
    "    n_per_seg=1000, \n",
    "    epochs_average=True)\n",
    "    \n",
    "psd2 = analyses.pow(\n",
    "    sub2.eeg, \n",
    "    fmin=7.5, fmax=11, \n",
    "    n_fft=1000, \n",
    "    n_per_seg=1000, \n",
    "    epochs_average=True)\n",
    "    \n",
    "data_psd = np.array([psd1.psd, psd2.psd])"
   ]
  },
  {
   "cell_type": "code",
   "execution_count": 21,
   "metadata": {},
   "outputs": [
    {
     "data": {
      "text/plain": [
       "(22, 8)"
      ]
     },
     "execution_count": 21,
     "metadata": {},
     "output_type": "execute_result"
    }
   ],
   "source": [
    "psd1.psd.shape"
   ]
  },
  {
   "cell_type": "markdown",
   "metadata": {},
   "source": [
    "# THERE"
   ]
  },
  {
   "cell_type": "code",
   "execution_count": null,
   "metadata": {},
   "outputs": [],
   "source": [
    "sub1.eeg.events.shape"
   ]
  },
  {
   "cell_type": "code",
   "execution_count": null,
   "metadata": {},
   "outputs": [],
   "source": [
    "sub1.df.shape"
   ]
  },
  {
   "cell_type": "markdown",
   "metadata": {},
   "source": [
    "# below"
   ]
  },
  {
   "cell_type": "markdown",
   "metadata": {},
   "source": [
    "The event dataframe can now be access using `sub1.df`. However, since we didn't any specific sliding window (sw) parameter, the \"cutted\" `sub1.df_sw` is left empty."
   ]
  },
  {
   "cell_type": "code",
   "execution_count": null,
   "metadata": {},
   "outputs": [],
   "source": [
    "sub1.df"
   ]
  },
  {
   "cell_type": "markdown",
   "metadata": {},
   "source": [
    "#### Select specific events"
   ]
  },
  {
   "cell_type": "markdown",
   "metadata": {},
   "source": [
    "To select a specific  range of event (e.g., from t=2 to t=16) we're using the `event_slider` method to update the class variable `sub1.df_sw`."
   ]
  },
  {
   "cell_type": "code",
   "execution_count": null,
   "metadata": {},
   "outputs": [],
   "source": [
    "sub1.event_slider(sw_min=6, sw_max=10)\n",
    "sub1.df_sw"
   ]
  },
  {
   "cell_type": "markdown",
   "metadata": {},
   "source": [
    "If we're reusing the `event_slider` method, the `sub1.df_sw` will be updated.\n",
    "\n",
    "NB: the method supports floats (although there is no need for them here)"
   ]
  },
  {
   "cell_type": "code",
   "execution_count": null,
   "metadata": {},
   "outputs": [],
   "source": [
    "sub1.event_slider(sw_min=24.4, sw_max=36.9)\n",
    "sub1.df_sw"
   ]
  },
  {
   "cell_type": "markdown",
   "metadata": {},
   "source": [
    "#### Convert `df_sw` to MNE convention (`df_sw_mne`)"
   ]
  },
  {
   "cell_type": "markdown",
   "metadata": {},
   "source": [
    "Here we use the `convert_to_MNE_event` to grab `df_sw`, select the column of choice, create the (necessary) `dontuse` column, and convert it to numpy (MNE doesn't take pandas df)."
   ]
  },
  {
   "cell_type": "code",
   "execution_count": null,
   "metadata": {},
   "outputs": [],
   "source": [
    "sub1."
   ]
  },
  {
   "cell_type": "code",
   "execution_count": null,
   "metadata": {},
   "outputs": [],
   "source": [
    "sub1.convert_EEG_to_MNE()"
   ]
  },
  {
   "cell_type": "markdown",
   "metadata": {},
   "source": [
    "> NB: the right column is the epoch column, you'll notice that these aren't the same values as the ones we selected with the `event_slider` method. That's because some have been rejected and that causes a shift."
   ]
  },
  {
   "cell_type": "code",
   "execution_count": null,
   "metadata": {},
   "outputs": [],
   "source": [
    "sub1.df_sw_mne"
   ]
  },
  {
   "cell_type": "markdown",
   "metadata": {},
   "source": [
    "## Todo\n",
    "\n",
    "- use `df_sw_mne` and the MNE's metadata method to truely select the epoch of choice and get them ready for analysis"
   ]
  },
  {
   "cell_type": "markdown",
   "metadata": {},
   "source": [
    "## Archives"
   ]
  },
  {
   "cell_type": "code",
   "execution_count": null,
   "metadata": {},
   "outputs": [],
   "source": [
    "epochs = mne.io.read_epochs_eeglab(path+sub1)"
   ]
  },
  {
   "cell_type": "code",
   "execution_count": null,
   "metadata": {},
   "outputs": [],
   "source": [
    "def read_set_events(filename, ignore_fields=None):\n",
    "\t'''Open set file, read events and turn them into a dataframe\n",
    "\tParameters\n",
    "\t----------\n",
    "\tfilename: str\n",
    "\t\tName of the set file to read (absolute or relative path)\n",
    "\tignore_fields: list of str | None\n",
    "\t\tEvent fields to ignore\n",
    "\tReturns\n",
    "\t-------\n",
    "\tdf: pandas.DatFrame\n",
    "\t\tEvents read into a dataframe\n",
    "\t'''\n",
    "\tEEG = loadmat(filename, uint16_codec='latin1',\n",
    "\t\t\t\t  struct_as_record=False, squeeze_me=True)['EEG']\n",
    "\tflds = [f for f in dir(EEG.event[0]) if not f.startswith('_')]\n",
    "\tevents = EEG.event\n",
    "\tdf_dict = dict()\n",
    "\tfor f in flds:\n",
    "\t\tdf_dict[f] = [ev.__getattribute__(f) for ev in events]\n",
    "\tdf = pd.DataFrame(df_dict)\n",
    "\n",
    "\t# reorder columns:\n",
    "\ttake_fields = ['epoch', 'type']\n",
    "\tignore_fields = list() if ignore_fields is None else ignore_fields\n",
    "\ttake_fields.extend([col for col in df.columns if not\n",
    "\t\t\t\t\t (col in take_fields or col in ignore_fields)])\n",
    "\treturn df.loc[:, take_fields]"
   ]
  },
  {
   "cell_type": "code",
   "execution_count": null,
   "metadata": {},
   "outputs": [],
   "source": [
    "df = read_set_events(path+sub1)\n",
    "df"
   ]
  },
  {
   "cell_type": "code",
   "execution_count": null,
   "metadata": {},
   "outputs": [],
   "source": [
    "    \n",
    "\n",
    "# epochs1 = mne.io.read_epochs_eeglab(path+sub1)\n",
    "# epochs2 = mne.io.read_epochs_eeglab(path+sub2)\n",
    "\n",
    "x=0\n",
    "shapes=list()\n",
    "\n",
    "# iterate over files in path\n",
    "for filename in os.listdir(path):\n",
    "    if filename[-3:] == \"set\" :\n",
    "        f = os.path.join(path, filename)\n",
    "        epochs = mne.io.read_epochs_eeglab(f)\n",
    "        shapes.append(np.shape(epochs._data))\n",
    "    else:\n",
    "        pass\n",
    "\n"
   ]
  },
  {
   "cell_type": "code",
   "execution_count": null,
   "metadata": {},
   "outputs": [],
   "source": [
    "print(np.mean(shapes, axis=0))\n",
    "print(\"Data left after pre-processing (%): \")\n",
    "print(((np.mean(shapes, axis=0)[0]*100)/(5*60)))"
   ]
  },
  {
   "cell_type": "code",
   "execution_count": null,
   "metadata": {},
   "outputs": [],
   "source": [
    "shapes[2]"
   ]
  },
  {
   "cell_type": "code",
   "execution_count": null,
   "metadata": {},
   "outputs": [],
   "source": [
    "print(np.shape(epochs1.selection))\n",
    "print(epochs1.selection)"
   ]
  },
  {
   "cell_type": "code",
   "execution_count": null,
   "metadata": {},
   "outputs": [],
   "source": [
    "epochs1.plot(block=True, n_channels=24)"
   ]
  }
 ],
 "metadata": {
  "interpreter": {
   "hash": "9d93afb8cdc34b2bdea5bf079bccd93013ea04d457e334f9ae90fb664fbdee86"
  },
  "kernelspec": {
   "display_name": "Python 3.8.8 ('base')",
   "language": "python",
   "name": "python3"
  },
  "language_info": {
   "codemirror_mode": {
    "name": "ipython",
    "version": 3
   },
   "file_extension": ".py",
   "mimetype": "text/x-python",
   "name": "python",
   "nbconvert_exporter": "python",
   "pygments_lexer": "ipython3",
   "version": "3.8.8"
  },
  "orig_nbformat": 4
 },
 "nbformat": 4,
 "nbformat_minor": 2
}
