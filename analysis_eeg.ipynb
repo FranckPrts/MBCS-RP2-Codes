{
 "cells": [
  {
   "cell_type": "markdown",
   "metadata": {},
   "source": [
    "# Import all SET metadata into MNE object\n",
    "\n",
    "### ToC\n",
    "- Import the full Matlab EEG.event struct containning `epoch_id`\n",
    "- Import SET with MNE (epoched data, basic event structure)\n",
    "    - Use SciPy's loadmat() to read the struct and make a pd.df ([source](https://github.com/mne-tools/mne-python/issues/3837#issuecomment-266460434) found [here](https://mne.discourse.group/t/creating-epochs-with-variable-event-latencies/3853)).\n",
    "- Look into the true event df to find epochs falling into set times"
   ]
  },
  {
   "cell_type": "markdown",
   "metadata": {},
   "source": [
    "### Imports"
   ]
  },
  {
   "cell_type": "code",
   "execution_count": 1,
   "metadata": {},
   "outputs": [],
   "source": [
    "import mne\n",
    "import os\n",
    "from scipy.io import loadmat\n",
    "\n",
    "import numpy as np\n",
    "import pandas as pd"
   ]
  },
  {
   "cell_type": "markdown",
   "metadata": {},
   "source": [
    "Define path to data directory and define subject(s)"
   ]
  },
  {
   "cell_type": "code",
   "execution_count": 2,
   "metadata": {},
   "outputs": [],
   "source": [
    "path = \"../SNS_Data_Fall_2020/EEG/Cleaned_EEG/samples/\"\n",
    "\n",
    "subject_1 = \"SAMPLE-1_NS_epochs.set\"\n",
    "subject_2 = \"SAMPLE-2_NS_epochs.set\""
   ]
  },
  {
   "cell_type": "markdown",
   "metadata": {},
   "source": [
    "### Making a custom event df"
   ]
  },
  {
   "cell_type": "markdown",
   "metadata": {},
   "source": [
    "#### Instantiating the class\n",
    "\n",
    "Because MNE's function `read_epochs_eeglab()` does all the work of formating the SET file's events df into a MNE-formated df, we lose important information (here, the column `epoch_id`). The class we define bellow allow to keep all these metadata and provide tools to 'cut' it to specific periodes (i.e., a time window) dynamicaly (i.e., a sliding window!). \n",
    "\n",
    "Bellow we import a `class` that:\n",
    "- takes a SET file and read the (full) set of metadata associated to it (see `Class.df`)\n",
    "- create a `Class.df_sw` which only contains events from `Class.df` which falls between `sw_min` and `sw_max`.\n",
    "    - if `sw_min` and `sw_max` are defined (floats)\n",
    "    - or leave `Class.df_sw` as an empty pd.Dataframe if `sw_min` and `sw_max` are `None`\n",
    "\n",
    "> The function `read_set_events()` that enables reading MatLab's EEG.event struct embeded into a SET file into a panda df is sourced from [here](https://github.com/mne-tools/mne-python/issues/3837#issuecomment-266460434) and found [here](https://mne.discourse.group/t/creating-epochs-with-variable-event-latencies/3853)."
   ]
  },
  {
   "cell_type": "code",
   "execution_count": 3,
   "metadata": {},
   "outputs": [],
   "source": [
    "from utils import eeg_sw"
   ]
  },
  {
   "cell_type": "markdown",
   "metadata": {},
   "source": [
    "Instantiate the class twice for 2 subject.\n",
    "\n",
    "NB: We're not definin any sliding window parameter at the moment. "
   ]
  },
  {
   "cell_type": "code",
   "execution_count": 4,
   "metadata": {},
   "outputs": [],
   "source": [
    "sub1 = eeg_sw.import_set_custom(path+subject_1, sw_min=None, sw_max=None)\n",
    "sub2 = eeg_sw.import_set_custom(path+subject_2, sw_min=None, sw_max=None)"
   ]
  },
  {
   "cell_type": "markdown",
   "metadata": {},
   "source": [
    "The event dataframe can now be access using `sub1.df`. However, since we didn't any specific sliding window (sw) parameter, the \"cutted\" `sub1.df_sw` is left empty."
   ]
  },
  {
   "cell_type": "code",
   "execution_count": 5,
   "metadata": {},
   "outputs": [
    {
     "data": {
      "text/html": [
       "<div>\n",
       "<style scoped>\n",
       "    .dataframe tbody tr th:only-of-type {\n",
       "        vertical-align: middle;\n",
       "    }\n",
       "\n",
       "    .dataframe tbody tr th {\n",
       "        vertical-align: top;\n",
       "    }\n",
       "\n",
       "    .dataframe thead th {\n",
       "        text-align: right;\n",
       "    }\n",
       "</style>\n",
       "<table border=\"1\" class=\"dataframe\">\n",
       "  <thead>\n",
       "    <tr style=\"text-align: right;\">\n",
       "      <th></th>\n",
       "      <th>epoch</th>\n",
       "      <th>type</th>\n",
       "      <th>duration</th>\n",
       "      <th>epoch_id</th>\n",
       "      <th>latency</th>\n",
       "      <th>urevent</th>\n",
       "    </tr>\n",
       "  </thead>\n",
       "  <tbody>\n",
       "    <tr>\n",
       "      <th>0</th>\n",
       "      <td>3</td>\n",
       "      <td>chan25</td>\n",
       "      <td>1</td>\n",
       "      <td>3</td>\n",
       "      <td>1</td>\n",
       "      <td>3</td>\n",
       "    </tr>\n",
       "    <tr>\n",
       "      <th>1</th>\n",
       "      <td>4</td>\n",
       "      <td>chan25</td>\n",
       "      <td>1</td>\n",
       "      <td>6</td>\n",
       "      <td>501</td>\n",
       "      <td>6</td>\n",
       "    </tr>\n",
       "    <tr>\n",
       "      <th>2</th>\n",
       "      <td>5</td>\n",
       "      <td>chan25</td>\n",
       "      <td>1</td>\n",
       "      <td>7</td>\n",
       "      <td>1001</td>\n",
       "      <td>7</td>\n",
       "    </tr>\n",
       "    <tr>\n",
       "      <th>3</th>\n",
       "      <td>6</td>\n",
       "      <td>chan25</td>\n",
       "      <td>1</td>\n",
       "      <td>8</td>\n",
       "      <td>1501</td>\n",
       "      <td>8</td>\n",
       "    </tr>\n",
       "    <tr>\n",
       "      <th>4</th>\n",
       "      <td>7</td>\n",
       "      <td>chan25</td>\n",
       "      <td>1</td>\n",
       "      <td>9</td>\n",
       "      <td>2001</td>\n",
       "      <td>9</td>\n",
       "    </tr>\n",
       "    <tr>\n",
       "      <th>...</th>\n",
       "      <td>...</td>\n",
       "      <td>...</td>\n",
       "      <td>...</td>\n",
       "      <td>...</td>\n",
       "      <td>...</td>\n",
       "      <td>...</td>\n",
       "    </tr>\n",
       "    <tr>\n",
       "      <th>283</th>\n",
       "      <td>289</td>\n",
       "      <td>chan25</td>\n",
       "      <td>1</td>\n",
       "      <td>293</td>\n",
       "      <td>141501</td>\n",
       "      <td>293</td>\n",
       "    </tr>\n",
       "    <tr>\n",
       "      <th>284</th>\n",
       "      <td>290</td>\n",
       "      <td>chan25</td>\n",
       "      <td>1</td>\n",
       "      <td>294</td>\n",
       "      <td>142001</td>\n",
       "      <td>294</td>\n",
       "    </tr>\n",
       "    <tr>\n",
       "      <th>285</th>\n",
       "      <td>291</td>\n",
       "      <td>chan25</td>\n",
       "      <td>1</td>\n",
       "      <td>295</td>\n",
       "      <td>142501</td>\n",
       "      <td>295</td>\n",
       "    </tr>\n",
       "    <tr>\n",
       "      <th>286</th>\n",
       "      <td>292</td>\n",
       "      <td>chan25</td>\n",
       "      <td>1</td>\n",
       "      <td>296</td>\n",
       "      <td>143001</td>\n",
       "      <td>296</td>\n",
       "    </tr>\n",
       "    <tr>\n",
       "      <th>287</th>\n",
       "      <td>293</td>\n",
       "      <td>chan25</td>\n",
       "      <td>1</td>\n",
       "      <td>297</td>\n",
       "      <td>143501</td>\n",
       "      <td>297</td>\n",
       "    </tr>\n",
       "  </tbody>\n",
       "</table>\n",
       "<p>288 rows × 6 columns</p>\n",
       "</div>"
      ],
      "text/plain": [
       "     epoch    type  duration  epoch_id  latency  urevent\n",
       "0        3  chan25         1         3        1        3\n",
       "1        4  chan25         1         6      501        6\n",
       "2        5  chan25         1         7     1001        7\n",
       "3        6  chan25         1         8     1501        8\n",
       "4        7  chan25         1         9     2001        9\n",
       "..     ...     ...       ...       ...      ...      ...\n",
       "283    289  chan25         1       293   141501      293\n",
       "284    290  chan25         1       294   142001      294\n",
       "285    291  chan25         1       295   142501      295\n",
       "286    292  chan25         1       296   143001      296\n",
       "287    293  chan25         1       297   143501      297\n",
       "\n",
       "[288 rows x 6 columns]"
      ]
     },
     "execution_count": 5,
     "metadata": {},
     "output_type": "execute_result"
    }
   ],
   "source": [
    "sub1.df"
   ]
  },
  {
   "cell_type": "markdown",
   "metadata": {},
   "source": [
    "#### Select specific events"
   ]
  },
  {
   "cell_type": "markdown",
   "metadata": {},
   "source": [
    "To select a specific  range of event (e.g., from t=2 to t=16) we're using the `event_slider` method to update the class variable `sub1.df_sw`."
   ]
  },
  {
   "cell_type": "code",
   "execution_count": 6,
   "metadata": {},
   "outputs": [
    {
     "data": {
      "text/html": [
       "<div>\n",
       "<style scoped>\n",
       "    .dataframe tbody tr th:only-of-type {\n",
       "        vertical-align: middle;\n",
       "    }\n",
       "\n",
       "    .dataframe tbody tr th {\n",
       "        vertical-align: top;\n",
       "    }\n",
       "\n",
       "    .dataframe thead th {\n",
       "        text-align: right;\n",
       "    }\n",
       "</style>\n",
       "<table border=\"1\" class=\"dataframe\">\n",
       "  <thead>\n",
       "    <tr style=\"text-align: right;\">\n",
       "      <th></th>\n",
       "      <th>epoch</th>\n",
       "      <th>type</th>\n",
       "      <th>duration</th>\n",
       "      <th>epoch_id</th>\n",
       "      <th>latency</th>\n",
       "      <th>urevent</th>\n",
       "    </tr>\n",
       "  </thead>\n",
       "  <tbody>\n",
       "    <tr>\n",
       "      <th>1</th>\n",
       "      <td>4</td>\n",
       "      <td>chan25</td>\n",
       "      <td>1</td>\n",
       "      <td>6</td>\n",
       "      <td>501</td>\n",
       "      <td>6</td>\n",
       "    </tr>\n",
       "    <tr>\n",
       "      <th>2</th>\n",
       "      <td>5</td>\n",
       "      <td>chan25</td>\n",
       "      <td>1</td>\n",
       "      <td>7</td>\n",
       "      <td>1001</td>\n",
       "      <td>7</td>\n",
       "    </tr>\n",
       "    <tr>\n",
       "      <th>3</th>\n",
       "      <td>6</td>\n",
       "      <td>chan25</td>\n",
       "      <td>1</td>\n",
       "      <td>8</td>\n",
       "      <td>1501</td>\n",
       "      <td>8</td>\n",
       "    </tr>\n",
       "    <tr>\n",
       "      <th>4</th>\n",
       "      <td>7</td>\n",
       "      <td>chan25</td>\n",
       "      <td>1</td>\n",
       "      <td>9</td>\n",
       "      <td>2001</td>\n",
       "      <td>9</td>\n",
       "    </tr>\n",
       "    <tr>\n",
       "      <th>5</th>\n",
       "      <td>8</td>\n",
       "      <td>chan25</td>\n",
       "      <td>1</td>\n",
       "      <td>10</td>\n",
       "      <td>2501</td>\n",
       "      <td>10</td>\n",
       "    </tr>\n",
       "  </tbody>\n",
       "</table>\n",
       "</div>"
      ],
      "text/plain": [
       "   epoch    type  duration  epoch_id  latency  urevent\n",
       "1      4  chan25         1         6      501        6\n",
       "2      5  chan25         1         7     1001        7\n",
       "3      6  chan25         1         8     1501        8\n",
       "4      7  chan25         1         9     2001        9\n",
       "5      8  chan25         1        10     2501       10"
      ]
     },
     "execution_count": 6,
     "metadata": {},
     "output_type": "execute_result"
    }
   ],
   "source": [
    "sub1.event_slider(sw_min=6, sw_max=10)\n",
    "sub1.df_sw"
   ]
  },
  {
   "cell_type": "markdown",
   "metadata": {},
   "source": [
    "If we're reusing the `event_slider` method, the `sub1.df_sw` will be updated.\n",
    "\n",
    "NB: the method supports floats (although there is no need for them here)"
   ]
  },
  {
   "cell_type": "code",
   "execution_count": 7,
   "metadata": {},
   "outputs": [
    {
     "data": {
      "text/html": [
       "<div>\n",
       "<style scoped>\n",
       "    .dataframe tbody tr th:only-of-type {\n",
       "        vertical-align: middle;\n",
       "    }\n",
       "\n",
       "    .dataframe tbody tr th {\n",
       "        vertical-align: top;\n",
       "    }\n",
       "\n",
       "    .dataframe thead th {\n",
       "        text-align: right;\n",
       "    }\n",
       "</style>\n",
       "<table border=\"1\" class=\"dataframe\">\n",
       "  <thead>\n",
       "    <tr style=\"text-align: right;\">\n",
       "      <th></th>\n",
       "      <th>epoch</th>\n",
       "      <th>type</th>\n",
       "      <th>duration</th>\n",
       "      <th>epoch_id</th>\n",
       "      <th>latency</th>\n",
       "      <th>urevent</th>\n",
       "    </tr>\n",
       "  </thead>\n",
       "  <tbody>\n",
       "    <tr>\n",
       "      <th>17</th>\n",
       "      <td>23</td>\n",
       "      <td>chan25</td>\n",
       "      <td>1</td>\n",
       "      <td>25</td>\n",
       "      <td>8501</td>\n",
       "      <td>25</td>\n",
       "    </tr>\n",
       "    <tr>\n",
       "      <th>18</th>\n",
       "      <td>24</td>\n",
       "      <td>chan25</td>\n",
       "      <td>1</td>\n",
       "      <td>26</td>\n",
       "      <td>9001</td>\n",
       "      <td>26</td>\n",
       "    </tr>\n",
       "    <tr>\n",
       "      <th>19</th>\n",
       "      <td>25</td>\n",
       "      <td>chan25</td>\n",
       "      <td>1</td>\n",
       "      <td>27</td>\n",
       "      <td>9501</td>\n",
       "      <td>27</td>\n",
       "    </tr>\n",
       "    <tr>\n",
       "      <th>20</th>\n",
       "      <td>26</td>\n",
       "      <td>chan25</td>\n",
       "      <td>1</td>\n",
       "      <td>28</td>\n",
       "      <td>10001</td>\n",
       "      <td>28</td>\n",
       "    </tr>\n",
       "    <tr>\n",
       "      <th>21</th>\n",
       "      <td>27</td>\n",
       "      <td>chan25</td>\n",
       "      <td>1</td>\n",
       "      <td>29</td>\n",
       "      <td>10501</td>\n",
       "      <td>29</td>\n",
       "    </tr>\n",
       "    <tr>\n",
       "      <th>22</th>\n",
       "      <td>28</td>\n",
       "      <td>chan25</td>\n",
       "      <td>1</td>\n",
       "      <td>30</td>\n",
       "      <td>11001</td>\n",
       "      <td>30</td>\n",
       "    </tr>\n",
       "    <tr>\n",
       "      <th>23</th>\n",
       "      <td>29</td>\n",
       "      <td>chan25</td>\n",
       "      <td>1</td>\n",
       "      <td>31</td>\n",
       "      <td>11501</td>\n",
       "      <td>31</td>\n",
       "    </tr>\n",
       "    <tr>\n",
       "      <th>24</th>\n",
       "      <td>30</td>\n",
       "      <td>chan25</td>\n",
       "      <td>1</td>\n",
       "      <td>32</td>\n",
       "      <td>12001</td>\n",
       "      <td>32</td>\n",
       "    </tr>\n",
       "    <tr>\n",
       "      <th>25</th>\n",
       "      <td>31</td>\n",
       "      <td>chan25</td>\n",
       "      <td>1</td>\n",
       "      <td>33</td>\n",
       "      <td>12501</td>\n",
       "      <td>33</td>\n",
       "    </tr>\n",
       "    <tr>\n",
       "      <th>26</th>\n",
       "      <td>32</td>\n",
       "      <td>chan25</td>\n",
       "      <td>1</td>\n",
       "      <td>34</td>\n",
       "      <td>13001</td>\n",
       "      <td>34</td>\n",
       "    </tr>\n",
       "    <tr>\n",
       "      <th>27</th>\n",
       "      <td>33</td>\n",
       "      <td>chan25</td>\n",
       "      <td>1</td>\n",
       "      <td>35</td>\n",
       "      <td>13501</td>\n",
       "      <td>35</td>\n",
       "    </tr>\n",
       "    <tr>\n",
       "      <th>28</th>\n",
       "      <td>34</td>\n",
       "      <td>chan25</td>\n",
       "      <td>1</td>\n",
       "      <td>36</td>\n",
       "      <td>14001</td>\n",
       "      <td>36</td>\n",
       "    </tr>\n",
       "  </tbody>\n",
       "</table>\n",
       "</div>"
      ],
      "text/plain": [
       "    epoch    type  duration  epoch_id  latency  urevent\n",
       "17     23  chan25         1        25     8501       25\n",
       "18     24  chan25         1        26     9001       26\n",
       "19     25  chan25         1        27     9501       27\n",
       "20     26  chan25         1        28    10001       28\n",
       "21     27  chan25         1        29    10501       29\n",
       "22     28  chan25         1        30    11001       30\n",
       "23     29  chan25         1        31    11501       31\n",
       "24     30  chan25         1        32    12001       32\n",
       "25     31  chan25         1        33    12501       33\n",
       "26     32  chan25         1        34    13001       34\n",
       "27     33  chan25         1        35    13501       35\n",
       "28     34  chan25         1        36    14001       36"
      ]
     },
     "execution_count": 7,
     "metadata": {},
     "output_type": "execute_result"
    }
   ],
   "source": [
    "sub1.event_slider(sw_min=24.4, sw_max=36.9)\n",
    "sub1.df_sw"
   ]
  },
  {
   "cell_type": "markdown",
   "metadata": {},
   "source": [
    "#### Convert `df_sw` to MNE convention (`df_sw_mne`)"
   ]
  },
  {
   "cell_type": "markdown",
   "metadata": {},
   "source": [
    "Here we use the `convert_to_MNE_event` to grab `df_sw`, select the column of choice, create the (necessary) `dontuse` column, and convert it to numpy (MNE doesn't take pandas df)."
   ]
  },
  {
   "cell_type": "code",
   "execution_count": 8,
   "metadata": {},
   "outputs": [
    {
     "name": "stdout",
     "output_type": "stream",
     "text": [
      "Converting EEG data to mne.Raw ...\n",
      "\tUsing effective time window [24.4 - 36.9]\n",
      "\tHere, from epoch #23 to #34.\n"
     ]
    }
   ],
   "source": [
    "sub1.convert_EEG_to_MNE()"
   ]
  },
  {
   "cell_type": "markdown",
   "metadata": {},
   "source": [
    "> NB: the right column is the epoch column, you'll notice that these aren't the same values as the ones we selected with the `event_slider` method. That's because some have been rejected and that causes a shift."
   ]
  },
  {
   "cell_type": "code",
   "execution_count": 9,
   "metadata": {},
   "outputs": [
    {
     "data": {
      "text/plain": [
       "array([[ 8501,     0,    23],\n",
       "       [ 9001,     0,    24],\n",
       "       [ 9501,     0,    25],\n",
       "       [10001,     0,    26],\n",
       "       [10501,     0,    27],\n",
       "       [11001,     0,    28],\n",
       "       [11501,     0,    29],\n",
       "       [12001,     0,    30],\n",
       "       [12501,     0,    31],\n",
       "       [13001,     0,    32],\n",
       "       [13501,     0,    33],\n",
       "       [14001,     0,    34]])"
      ]
     },
     "execution_count": 9,
     "metadata": {},
     "output_type": "execute_result"
    }
   ],
   "source": [
    "sub1.df_sw_mne"
   ]
  },
  {
   "cell_type": "markdown",
   "metadata": {},
   "source": [
    "## Todo\n",
    "\n",
    "- use `df_sw_mne` and the MNE's metadata method to truely select the epoch of choice and get them ready for analysis"
   ]
  },
  {
   "cell_type": "markdown",
   "metadata": {},
   "source": [
    "## Archives"
   ]
  },
  {
   "cell_type": "code",
   "execution_count": null,
   "metadata": {},
   "outputs": [],
   "source": [
    "epochs = mne.io.read_epochs_eeglab(path+sub1)"
   ]
  },
  {
   "cell_type": "code",
   "execution_count": null,
   "metadata": {},
   "outputs": [],
   "source": [
    "def read_set_events(filename, ignore_fields=None):\n",
    "\t'''Open set file, read events and turn them into a dataframe\n",
    "\tParameters\n",
    "\t----------\n",
    "\tfilename: str\n",
    "\t\tName of the set file to read (absolute or relative path)\n",
    "\tignore_fields: list of str | None\n",
    "\t\tEvent fields to ignore\n",
    "\tReturns\n",
    "\t-------\n",
    "\tdf: pandas.DatFrame\n",
    "\t\tEvents read into a dataframe\n",
    "\t'''\n",
    "\tEEG = loadmat(filename, uint16_codec='latin1',\n",
    "\t\t\t\t  struct_as_record=False, squeeze_me=True)['EEG']\n",
    "\tflds = [f for f in dir(EEG.event[0]) if not f.startswith('_')]\n",
    "\tevents = EEG.event\n",
    "\tdf_dict = dict()\n",
    "\tfor f in flds:\n",
    "\t\tdf_dict[f] = [ev.__getattribute__(f) for ev in events]\n",
    "\tdf = pd.DataFrame(df_dict)\n",
    "\n",
    "\t# reorder columns:\n",
    "\ttake_fields = ['epoch', 'type']\n",
    "\tignore_fields = list() if ignore_fields is None else ignore_fields\n",
    "\ttake_fields.extend([col for col in df.columns if not\n",
    "\t\t\t\t\t (col in take_fields or col in ignore_fields)])\n",
    "\treturn df.loc[:, take_fields]"
   ]
  },
  {
   "cell_type": "code",
   "execution_count": null,
   "metadata": {},
   "outputs": [],
   "source": [
    "df = read_set_events(path+sub1)\n",
    "df"
   ]
  },
  {
   "cell_type": "code",
   "execution_count": null,
   "metadata": {},
   "outputs": [],
   "source": [
    "    \n",
    "\n",
    "# epochs1 = mne.io.read_epochs_eeglab(path+sub1)\n",
    "# epochs2 = mne.io.read_epochs_eeglab(path+sub2)\n",
    "\n",
    "x=0\n",
    "shapes=list()\n",
    "\n",
    "# iterate over files in path\n",
    "for filename in os.listdir(path):\n",
    "    if filename[-3:] == \"set\" :\n",
    "        f = os.path.join(path, filename)\n",
    "        epochs = mne.io.read_epochs_eeglab(f)\n",
    "        shapes.append(np.shape(epochs._data))\n",
    "    else:\n",
    "        pass\n",
    "\n"
   ]
  },
  {
   "cell_type": "code",
   "execution_count": null,
   "metadata": {},
   "outputs": [],
   "source": [
    "print(np.mean(shapes, axis=0))\n",
    "print(\"Data left after pre-processing (%): \")\n",
    "print(((np.mean(shapes, axis=0)[0]*100)/(5*60)))"
   ]
  },
  {
   "cell_type": "code",
   "execution_count": null,
   "metadata": {},
   "outputs": [],
   "source": [
    "shapes[2]"
   ]
  },
  {
   "cell_type": "code",
   "execution_count": null,
   "metadata": {},
   "outputs": [],
   "source": [
    "print(np.shape(epochs1.selection))\n",
    "print(epochs1.selection)"
   ]
  },
  {
   "cell_type": "code",
   "execution_count": null,
   "metadata": {},
   "outputs": [],
   "source": [
    "epochs1.plot(block=True, n_channels=24)"
   ]
  }
 ],
 "metadata": {
  "interpreter": {
   "hash": "9d93afb8cdc34b2bdea5bf079bccd93013ea04d457e334f9ae90fb664fbdee86"
  },
  "kernelspec": {
   "display_name": "Python 3.8.8 ('base')",
   "language": "python",
   "name": "python3"
  },
  "language_info": {
   "codemirror_mode": {
    "name": "ipython",
    "version": 3
   },
   "file_extension": ".py",
   "mimetype": "text/x-python",
   "name": "python",
   "nbconvert_exporter": "python",
   "pygments_lexer": "ipython3",
   "version": "3.8.8"
  },
  "orig_nbformat": 4
 },
 "nbformat": 4,
 "nbformat_minor": 2
}
