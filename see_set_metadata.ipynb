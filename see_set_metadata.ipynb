{
 "cells": [
  {
   "cell_type": "markdown",
   "metadata": {},
   "source": [
    "# Import all SET metadata into MNE object\n",
    "\n",
    "### ToC\n",
    "- Import the full Matlab EEG.event struct containning `epoch_id`\n",
    "- Import SET with MNE (epoched data, basic event structure)\n",
    "    - Use SciPy's loadmat() to read the struct and make a pd.df ([source](https://github.com/mne-tools/mne-python/issues/3837#issuecomment-266460434) found [here](https://mne.discourse.group/t/creating-epochs-with-variable-event-latencies/3853)).\n",
    "- Look into the true event df to find epochs falling into set times"
   ]
  },
  {
   "cell_type": "markdown",
   "metadata": {},
   "source": [
    "### Imports"
   ]
  },
  {
   "cell_type": "code",
   "execution_count": 1,
   "metadata": {},
   "outputs": [],
   "source": [
    "import mne\n",
    "import os\n",
    "from scipy.io import loadmat\n",
    "\n",
    "import numpy as np\n",
    "import pandas as pd"
   ]
  },
  {
   "cell_type": "markdown",
   "metadata": {},
   "source": [
    "Define path to files to work with "
   ]
  },
  {
   "cell_type": "code",
   "execution_count": 2,
   "metadata": {},
   "outputs": [],
   "source": [
    "path = \"../hyper_cleaned/samples/\"\n",
    "subject_1 = \"SAMPLE-1_ES_epochs.set\"\n",
    "subject_2 = \"SAMPLE-2_ES_epochs.set\""
   ]
  },
  {
   "cell_type": "markdown",
   "metadata": {},
   "source": [
    "### Making a custom event df"
   ]
  },
  {
   "cell_type": "markdown",
   "metadata": {},
   "source": [
    "#### Instantiating the class\n",
    "\n",
    "Because MNE's function `read_epochs_eeglab()` does all the work of formating the SET file's events df into a MNE-formated df, we lose important information (here, the column `epoch_id`). The class we define bellow allow to keep all these metadata and provide tools to 'cut' it to specific periodes (i.e., a time window) dynamicaly (i.e., a sliding window!). \n",
    "\n",
    "Bellow we import a `class` that:\n",
    "- takes a SET file and read the (full) set of metadata associated to it (see `Class.df`)\n",
    "- create a `Class.df_sw` which only contains events from `Class.df` which falls between `sw_min` and `sw_max`.\n",
    "    - if `sw_min` and `sw_max` are defined (floats)\n",
    "    - or leave `Class.df_sw` as an empty pd.Dataframe if `sw_min` and `sw_max` are `None`\n",
    "\n",
    "> The function `read_set_events()` that enables reading MatLab's EEG.event struct embeded into a SET file into a panda df is sourced from [here](https://github.com/mne-tools/mne-python/issues/3837#issuecomment-266460434) and found [here](https://mne.discourse.group/t/creating-epochs-with-variable-event-latencies/3853)."
   ]
  },
  {
   "cell_type": "markdown",
   "metadata": {},
   "source": [
    "Import custom class"
   ]
  },
  {
   "cell_type": "code",
   "execution_count": 26,
   "metadata": {},
   "outputs": [],
   "source": [
    "from utils import eeg_sw"
   ]
  },
  {
   "cell_type": "markdown",
   "metadata": {},
   "source": [
    "Instantiate the class twice for 2 subject.\n",
    "\n",
    "NB: We're not definin any sliding window parameter at the moment. "
   ]
  },
  {
   "cell_type": "code",
   "execution_count": 4,
   "metadata": {},
   "outputs": [],
   "source": [
    "sub1 = import_set_custom(path+subject_1, sw_min=None, sw_max=None)\n",
    "sub2 = import_set_custom(path+subject_2, sw_min=None, sw_max=None)"
   ]
  },
  {
   "cell_type": "markdown",
   "metadata": {},
   "source": [
    "The event dataframe can now be access using `sub1.df`. However, since we didn't any specific sliding window (sw) parameter, the \"cutted\" `sub1.df_sw` is left empty."
   ]
  },
  {
   "cell_type": "code",
   "execution_count": 5,
   "metadata": {},
   "outputs": [
    {
     "data": {
      "text/html": [
       "<div>\n",
       "<style scoped>\n",
       "    .dataframe tbody tr th:only-of-type {\n",
       "        vertical-align: middle;\n",
       "    }\n",
       "\n",
       "    .dataframe tbody tr th {\n",
       "        vertical-align: top;\n",
       "    }\n",
       "\n",
       "    .dataframe thead th {\n",
       "        text-align: right;\n",
       "    }\n",
       "</style>\n",
       "<table border=\"1\" class=\"dataframe\">\n",
       "  <thead>\n",
       "    <tr style=\"text-align: right;\">\n",
       "      <th></th>\n",
       "      <th>epoch</th>\n",
       "      <th>type</th>\n",
       "      <th>duration</th>\n",
       "      <th>epoch_id</th>\n",
       "      <th>latency</th>\n",
       "      <th>urevent</th>\n",
       "    </tr>\n",
       "  </thead>\n",
       "  <tbody>\n",
       "    <tr>\n",
       "      <th>0</th>\n",
       "      <td>1</td>\n",
       "      <td>chan25</td>\n",
       "      <td>1</td>\n",
       "      <td>1</td>\n",
       "      <td>1</td>\n",
       "      <td>1</td>\n",
       "    </tr>\n",
       "    <tr>\n",
       "      <th>1</th>\n",
       "      <td>2</td>\n",
       "      <td>chan25</td>\n",
       "      <td>1</td>\n",
       "      <td>2</td>\n",
       "      <td>501</td>\n",
       "      <td>2</td>\n",
       "    </tr>\n",
       "    <tr>\n",
       "      <th>2</th>\n",
       "      <td>3</td>\n",
       "      <td>chan25</td>\n",
       "      <td>1</td>\n",
       "      <td>3</td>\n",
       "      <td>1001</td>\n",
       "      <td>3</td>\n",
       "    </tr>\n",
       "    <tr>\n",
       "      <th>3</th>\n",
       "      <td>4</td>\n",
       "      <td>chan25</td>\n",
       "      <td>1</td>\n",
       "      <td>4</td>\n",
       "      <td>1501</td>\n",
       "      <td>4</td>\n",
       "    </tr>\n",
       "    <tr>\n",
       "      <th>4</th>\n",
       "      <td>9</td>\n",
       "      <td>chan25</td>\n",
       "      <td>1</td>\n",
       "      <td>9</td>\n",
       "      <td>2001</td>\n",
       "      <td>9</td>\n",
       "    </tr>\n",
       "    <tr>\n",
       "      <th>...</th>\n",
       "      <td>...</td>\n",
       "      <td>...</td>\n",
       "      <td>...</td>\n",
       "      <td>...</td>\n",
       "      <td>...</td>\n",
       "      <td>...</td>\n",
       "    </tr>\n",
       "    <tr>\n",
       "      <th>172</th>\n",
       "      <td>201</td>\n",
       "      <td>chan25</td>\n",
       "      <td>1</td>\n",
       "      <td>289</td>\n",
       "      <td>86001</td>\n",
       "      <td>289</td>\n",
       "    </tr>\n",
       "    <tr>\n",
       "      <th>173</th>\n",
       "      <td>202</td>\n",
       "      <td>chan25</td>\n",
       "      <td>1</td>\n",
       "      <td>290</td>\n",
       "      <td>86501</td>\n",
       "      <td>290</td>\n",
       "    </tr>\n",
       "    <tr>\n",
       "      <th>174</th>\n",
       "      <td>203</td>\n",
       "      <td>chan25</td>\n",
       "      <td>1</td>\n",
       "      <td>291</td>\n",
       "      <td>87001</td>\n",
       "      <td>291</td>\n",
       "    </tr>\n",
       "    <tr>\n",
       "      <th>175</th>\n",
       "      <td>204</td>\n",
       "      <td>chan25</td>\n",
       "      <td>1</td>\n",
       "      <td>292</td>\n",
       "      <td>87501</td>\n",
       "      <td>292</td>\n",
       "    </tr>\n",
       "    <tr>\n",
       "      <th>176</th>\n",
       "      <td>205</td>\n",
       "      <td>chan25</td>\n",
       "      <td>1</td>\n",
       "      <td>293</td>\n",
       "      <td>88001</td>\n",
       "      <td>293</td>\n",
       "    </tr>\n",
       "  </tbody>\n",
       "</table>\n",
       "<p>177 rows × 6 columns</p>\n",
       "</div>"
      ],
      "text/plain": [
       "     epoch    type  duration  epoch_id  latency  urevent\n",
       "0        1  chan25         1         1        1        1\n",
       "1        2  chan25         1         2      501        2\n",
       "2        3  chan25         1         3     1001        3\n",
       "3        4  chan25         1         4     1501        4\n",
       "4        9  chan25         1         9     2001        9\n",
       "..     ...     ...       ...       ...      ...      ...\n",
       "172    201  chan25         1       289    86001      289\n",
       "173    202  chan25         1       290    86501      290\n",
       "174    203  chan25         1       291    87001      291\n",
       "175    204  chan25         1       292    87501      292\n",
       "176    205  chan25         1       293    88001      293\n",
       "\n",
       "[177 rows x 6 columns]"
      ]
     },
     "execution_count": 5,
     "metadata": {},
     "output_type": "execute_result"
    }
   ],
   "source": [
    "sub1.df"
   ]
  },
  {
   "cell_type": "code",
   "execution_count": 6,
   "metadata": {},
   "outputs": [
    {
     "data": {
      "text/plain": [
       "pandas.core.frame.DataFrame"
      ]
     },
     "execution_count": 6,
     "metadata": {},
     "output_type": "execute_result"
    }
   ],
   "source": [
    "sub1.df_sw"
   ]
  },
  {
   "cell_type": "markdown",
   "metadata": {},
   "source": [
    "#### Select specific events"
   ]
  },
  {
   "cell_type": "markdown",
   "metadata": {},
   "source": [
    "To select a specific  range of event (e.g., from t=2 to t=16) we're using the `event_slider` method to update the class variable `sub1.df_sw`."
   ]
  },
  {
   "cell_type": "code",
   "execution_count": 7,
   "metadata": {},
   "outputs": [
    {
     "data": {
      "text/html": [
       "<div>\n",
       "<style scoped>\n",
       "    .dataframe tbody tr th:only-of-type {\n",
       "        vertical-align: middle;\n",
       "    }\n",
       "\n",
       "    .dataframe tbody tr th {\n",
       "        vertical-align: top;\n",
       "    }\n",
       "\n",
       "    .dataframe thead th {\n",
       "        text-align: right;\n",
       "    }\n",
       "</style>\n",
       "<table border=\"1\" class=\"dataframe\">\n",
       "  <thead>\n",
       "    <tr style=\"text-align: right;\">\n",
       "      <th></th>\n",
       "      <th>epoch</th>\n",
       "      <th>type</th>\n",
       "      <th>duration</th>\n",
       "      <th>epoch_id</th>\n",
       "      <th>latency</th>\n",
       "      <th>urevent</th>\n",
       "    </tr>\n",
       "  </thead>\n",
       "  <tbody>\n",
       "    <tr>\n",
       "      <th>1</th>\n",
       "      <td>2</td>\n",
       "      <td>chan25</td>\n",
       "      <td>1</td>\n",
       "      <td>2</td>\n",
       "      <td>501</td>\n",
       "      <td>2</td>\n",
       "    </tr>\n",
       "    <tr>\n",
       "      <th>2</th>\n",
       "      <td>3</td>\n",
       "      <td>chan25</td>\n",
       "      <td>1</td>\n",
       "      <td>3</td>\n",
       "      <td>1001</td>\n",
       "      <td>3</td>\n",
       "    </tr>\n",
       "    <tr>\n",
       "      <th>3</th>\n",
       "      <td>4</td>\n",
       "      <td>chan25</td>\n",
       "      <td>1</td>\n",
       "      <td>4</td>\n",
       "      <td>1501</td>\n",
       "      <td>4</td>\n",
       "    </tr>\n",
       "    <tr>\n",
       "      <th>4</th>\n",
       "      <td>9</td>\n",
       "      <td>chan25</td>\n",
       "      <td>1</td>\n",
       "      <td>9</td>\n",
       "      <td>2001</td>\n",
       "      <td>9</td>\n",
       "    </tr>\n",
       "    <tr>\n",
       "      <th>5</th>\n",
       "      <td>10</td>\n",
       "      <td>chan25</td>\n",
       "      <td>1</td>\n",
       "      <td>10</td>\n",
       "      <td>2501</td>\n",
       "      <td>10</td>\n",
       "    </tr>\n",
       "    <tr>\n",
       "      <th>6</th>\n",
       "      <td>11</td>\n",
       "      <td>chan25</td>\n",
       "      <td>1</td>\n",
       "      <td>11</td>\n",
       "      <td>3001</td>\n",
       "      <td>11</td>\n",
       "    </tr>\n",
       "    <tr>\n",
       "      <th>7</th>\n",
       "      <td>12</td>\n",
       "      <td>chan25</td>\n",
       "      <td>1</td>\n",
       "      <td>12</td>\n",
       "      <td>3501</td>\n",
       "      <td>12</td>\n",
       "    </tr>\n",
       "    <tr>\n",
       "      <th>8</th>\n",
       "      <td>13</td>\n",
       "      <td>chan25</td>\n",
       "      <td>1</td>\n",
       "      <td>13</td>\n",
       "      <td>4001</td>\n",
       "      <td>13</td>\n",
       "    </tr>\n",
       "    <tr>\n",
       "      <th>9</th>\n",
       "      <td>14</td>\n",
       "      <td>chan25</td>\n",
       "      <td>1</td>\n",
       "      <td>14</td>\n",
       "      <td>4501</td>\n",
       "      <td>14</td>\n",
       "    </tr>\n",
       "    <tr>\n",
       "      <th>10</th>\n",
       "      <td>15</td>\n",
       "      <td>chan25</td>\n",
       "      <td>1</td>\n",
       "      <td>15</td>\n",
       "      <td>5001</td>\n",
       "      <td>15</td>\n",
       "    </tr>\n",
       "    <tr>\n",
       "      <th>11</th>\n",
       "      <td>16</td>\n",
       "      <td>chan25</td>\n",
       "      <td>1</td>\n",
       "      <td>16</td>\n",
       "      <td>5501</td>\n",
       "      <td>16</td>\n",
       "    </tr>\n",
       "  </tbody>\n",
       "</table>\n",
       "</div>"
      ],
      "text/plain": [
       "    epoch    type  duration  epoch_id  latency  urevent\n",
       "1       2  chan25         1         2      501        2\n",
       "2       3  chan25         1         3     1001        3\n",
       "3       4  chan25         1         4     1501        4\n",
       "4       9  chan25         1         9     2001        9\n",
       "5      10  chan25         1        10     2501       10\n",
       "6      11  chan25         1        11     3001       11\n",
       "7      12  chan25         1        12     3501       12\n",
       "8      13  chan25         1        13     4001       13\n",
       "9      14  chan25         1        14     4501       14\n",
       "10     15  chan25         1        15     5001       15\n",
       "11     16  chan25         1        16     5501       16"
      ]
     },
     "execution_count": 7,
     "metadata": {},
     "output_type": "execute_result"
    }
   ],
   "source": [
    "sub1.event_slider(sw_min=2, sw_max=16)\n",
    "sub1.df_sw"
   ]
  },
  {
   "cell_type": "markdown",
   "metadata": {},
   "source": [
    "If we're reusing the `event_slider` method, the `sub1.df_sw` will be updated.\n",
    "\n",
    "NB: the method supports floats (although there is no need for them here)"
   ]
  },
  {
   "cell_type": "code",
   "execution_count": 21,
   "metadata": {},
   "outputs": [
    {
     "data": {
      "text/html": [
       "<div>\n",
       "<style scoped>\n",
       "    .dataframe tbody tr th:only-of-type {\n",
       "        vertical-align: middle;\n",
       "    }\n",
       "\n",
       "    .dataframe tbody tr th {\n",
       "        vertical-align: top;\n",
       "    }\n",
       "\n",
       "    .dataframe thead th {\n",
       "        text-align: right;\n",
       "    }\n",
       "</style>\n",
       "<table border=\"1\" class=\"dataframe\">\n",
       "  <thead>\n",
       "    <tr style=\"text-align: right;\">\n",
       "      <th></th>\n",
       "      <th>epoch</th>\n",
       "      <th>type</th>\n",
       "      <th>duration</th>\n",
       "      <th>epoch_id</th>\n",
       "      <th>latency</th>\n",
       "      <th>urevent</th>\n",
       "    </tr>\n",
       "  </thead>\n",
       "  <tbody>\n",
       "    <tr>\n",
       "      <th>16</th>\n",
       "      <td>23</td>\n",
       "      <td>chan25</td>\n",
       "      <td>1</td>\n",
       "      <td>28</td>\n",
       "      <td>8001</td>\n",
       "      <td>28</td>\n",
       "    </tr>\n",
       "    <tr>\n",
       "      <th>17</th>\n",
       "      <td>24</td>\n",
       "      <td>chan25</td>\n",
       "      <td>1</td>\n",
       "      <td>29</td>\n",
       "      <td>8501</td>\n",
       "      <td>29</td>\n",
       "    </tr>\n",
       "    <tr>\n",
       "      <th>18</th>\n",
       "      <td>25</td>\n",
       "      <td>chan25</td>\n",
       "      <td>1</td>\n",
       "      <td>30</td>\n",
       "      <td>9001</td>\n",
       "      <td>30</td>\n",
       "    </tr>\n",
       "    <tr>\n",
       "      <th>19</th>\n",
       "      <td>26</td>\n",
       "      <td>chan25</td>\n",
       "      <td>1</td>\n",
       "      <td>33</td>\n",
       "      <td>9501</td>\n",
       "      <td>33</td>\n",
       "    </tr>\n",
       "    <tr>\n",
       "      <th>20</th>\n",
       "      <td>27</td>\n",
       "      <td>chan25</td>\n",
       "      <td>1</td>\n",
       "      <td>34</td>\n",
       "      <td>10001</td>\n",
       "      <td>34</td>\n",
       "    </tr>\n",
       "    <tr>\n",
       "      <th>21</th>\n",
       "      <td>28</td>\n",
       "      <td>chan25</td>\n",
       "      <td>1</td>\n",
       "      <td>35</td>\n",
       "      <td>10501</td>\n",
       "      <td>35</td>\n",
       "    </tr>\n",
       "  </tbody>\n",
       "</table>\n",
       "</div>"
      ],
      "text/plain": [
       "    epoch    type  duration  epoch_id  latency  urevent\n",
       "16     23  chan25         1        28     8001       28\n",
       "17     24  chan25         1        29     8501       29\n",
       "18     25  chan25         1        30     9001       30\n",
       "19     26  chan25         1        33     9501       33\n",
       "20     27  chan25         1        34    10001       34\n",
       "21     28  chan25         1        35    10501       35"
      ]
     },
     "execution_count": 21,
     "metadata": {},
     "output_type": "execute_result"
    }
   ],
   "source": [
    "sub1.event_slider(sw_min=24.4, sw_max=36.9)\n",
    "sub1.df_sw"
   ]
  },
  {
   "cell_type": "markdown",
   "metadata": {},
   "source": [
    "#### Convert `df_sw` to MNE convention (`df_sw_mne`)"
   ]
  },
  {
   "cell_type": "markdown",
   "metadata": {},
   "source": [
    "Here we use the `convert_to_MNE_event` to grab `df_sw`, select the column of choice, create the (necessary) `dontuse` column, and convert it to numpy (MNE doesn't take pandas df)."
   ]
  },
  {
   "cell_type": "code",
   "execution_count": 24,
   "metadata": {},
   "outputs": [],
   "source": [
    "sub1.convert_to__MNE_event()"
   ]
  },
  {
   "cell_type": "markdown",
   "metadata": {},
   "source": [
    "> NB: the right column is the epoch column, you'll notice that these aren't the same values as the ones we selected with the `event_slider` method. That's because some have been rejected and that causes a shift."
   ]
  },
  {
   "cell_type": "code",
   "execution_count": 25,
   "metadata": {},
   "outputs": [
    {
     "data": {
      "text/plain": [
       "array([[ 8001,     0,    23],\n",
       "       [ 8501,     0,    24],\n",
       "       [ 9001,     0,    25],\n",
       "       [ 9501,     0,    26],\n",
       "       [10001,     0,    27],\n",
       "       [10501,     0,    28]])"
      ]
     },
     "execution_count": 25,
     "metadata": {},
     "output_type": "execute_result"
    }
   ],
   "source": [
    "sub1.df_sw_mne"
   ]
  },
  {
   "cell_type": "markdown",
   "metadata": {},
   "source": [
    "## Todo\n",
    "\n",
    "- use `df_sw_mne` and the MNE's metadata method to truely select the epoch of choice and get them ready for analysis"
   ]
  },
  {
   "cell_type": "markdown",
   "metadata": {},
   "source": [
    "## Bellow this point, it's just tries and fails that I'm keeping for now"
   ]
  },
  {
   "cell_type": "code",
   "execution_count": null,
   "metadata": {},
   "outputs": [],
   "source": [
    "epochs = mne.io.read_epochs_eeglab(path+sub1)"
   ]
  },
  {
   "cell_type": "code",
   "execution_count": null,
   "metadata": {},
   "outputs": [],
   "source": [
    "def read_set_events(filename, ignore_fields=None):\n",
    "\t'''Open set file, read events and turn them into a dataframe\n",
    "\tParameters\n",
    "\t----------\n",
    "\tfilename: str\n",
    "\t\tName of the set file to read (absolute or relative path)\n",
    "\tignore_fields: list of str | None\n",
    "\t\tEvent fields to ignore\n",
    "\tReturns\n",
    "\t-------\n",
    "\tdf: pandas.DatFrame\n",
    "\t\tEvents read into a dataframe\n",
    "\t'''\n",
    "\tEEG = loadmat(filename, uint16_codec='latin1',\n",
    "\t\t\t\t  struct_as_record=False, squeeze_me=True)['EEG']\n",
    "\tflds = [f for f in dir(EEG.event[0]) if not f.startswith('_')]\n",
    "\tevents = EEG.event\n",
    "\tdf_dict = dict()\n",
    "\tfor f in flds:\n",
    "\t\tdf_dict[f] = [ev.__getattribute__(f) for ev in events]\n",
    "\tdf = pd.DataFrame(df_dict)\n",
    "\n",
    "\t# reorder columns:\n",
    "\ttake_fields = ['epoch', 'type']\n",
    "\tignore_fields = list() if ignore_fields is None else ignore_fields\n",
    "\ttake_fields.extend([col for col in df.columns if not\n",
    "\t\t\t\t\t (col in take_fields or col in ignore_fields)])\n",
    "\treturn df.loc[:, take_fields]"
   ]
  },
  {
   "cell_type": "code",
   "execution_count": null,
   "metadata": {},
   "outputs": [],
   "source": [
    "df = read_set_events(path+sub1)\n",
    "df"
   ]
  },
  {
   "cell_type": "code",
   "execution_count": null,
   "metadata": {},
   "outputs": [],
   "source": [
    "    \n",
    "\n",
    "# epochs1 = mne.io.read_epochs_eeglab(path+sub1)\n",
    "# epochs2 = mne.io.read_epochs_eeglab(path+sub2)\n",
    "\n",
    "x=0\n",
    "shapes=list()\n",
    "\n",
    "# iterate over files in path\n",
    "for filename in os.listdir(path):\n",
    "    if filename[-3:] == \"set\" :\n",
    "        f = os.path.join(path, filename)\n",
    "        epochs = mne.io.read_epochs_eeglab(f)\n",
    "        shapes.append(np.shape(epochs._data))\n",
    "    else:\n",
    "        pass\n",
    "\n"
   ]
  },
  {
   "cell_type": "code",
   "execution_count": null,
   "metadata": {},
   "outputs": [],
   "source": [
    "print(np.mean(shapes, axis=0))\n",
    "print(\"Data left after pre-processing (%): \")\n",
    "print(((np.mean(shapes, axis=0)[0]*100)/(5*60)))"
   ]
  },
  {
   "cell_type": "code",
   "execution_count": null,
   "metadata": {},
   "outputs": [],
   "source": [
    "shapes[2]"
   ]
  },
  {
   "cell_type": "code",
   "execution_count": null,
   "metadata": {},
   "outputs": [],
   "source": [
    "print(np.shape(epochs1.selection))\n",
    "print(epochs1.selection)"
   ]
  },
  {
   "cell_type": "code",
   "execution_count": null,
   "metadata": {},
   "outputs": [],
   "source": [
    "epochs1.plot(block=True, n_channels=24)"
   ]
  }
 ],
 "metadata": {
  "interpreter": {
   "hash": "9d93afb8cdc34b2bdea5bf079bccd93013ea04d457e334f9ae90fb664fbdee86"
  },
  "kernelspec": {
   "display_name": "Python 3.8.8 ('base')",
   "language": "python",
   "name": "python3"
  },
  "language_info": {
   "codemirror_mode": {
    "name": "ipython",
    "version": 3
   },
   "file_extension": ".py",
   "mimetype": "text/x-python",
   "name": "python",
   "nbconvert_exporter": "python",
   "pygments_lexer": "ipython3",
   "version": "3.8.8"
  },
  "orig_nbformat": 4
 },
 "nbformat": 4,
 "nbformat_minor": 2
}
