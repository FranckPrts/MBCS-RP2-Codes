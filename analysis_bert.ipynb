{
 "cells": [
  {
   "cell_type": "markdown",
   "metadata": {},
   "source": [
    "## Flair / Bert / Sementic similarity\n",
    "- [Hugging facer repo](https://huggingface.co/models?library=flair&sort=downloads)\n",
    "- [Flair embedinggs](https://github.com/flairNLP/flair/blob/master/resources/docs/embeddings/TRANSFORMER_EMBEDDINGS.md)"
   ]
  },
  {
   "cell_type": "code",
   "execution_count": 14,
   "metadata": {},
   "outputs": [],
   "source": [
    "import json"
   ]
  },
  {
   "cell_type": "code",
   "execution_count": null,
   "metadata": {},
   "outputs": [],
   "source": [
    "with open('fcc.json', 'r') as fcc_file:\n",
    "    fcc_data = json.load(fcc_file)\n",
    "    print(fcc_data)"
   ]
  },
  {
   "cell_type": "code",
   "execution_count": 3,
   "metadata": {},
   "outputs": [
    {
     "name": "stdout",
     "output_type": "stream",
     "text": [
      "Collecting flair\n",
      "  Using cached https://files.pythonhosted.org/packages/20/79/ea629365c03659a686cb2b2fb219d263c699ff22c46ff7793e47cb6bc4d7/flair-0.11.1-py3-none-any.whl\n",
      "Collecting wikipedia-api (from flair)\n",
      "  Using cached https://files.pythonhosted.org/packages/ef/3d/289963bbf51f8d00cdf7483cdc2baee25ba877e8b4eb72157c47211e3b57/Wikipedia-API-0.5.4.tar.gz\n",
      "Requirement already satisfied: tqdm>=4.26.0 in /opt/anaconda3/lib/python3.7/site-packages (from flair) (4.36.1)\n",
      "Collecting pptree (from flair)\n",
      "  Using cached https://files.pythonhosted.org/packages/01/cd/f4f2b79d20a10563d071c38b6ad14bf9c5d75a0edef877d2bed60c024247/pptree-3.1.tar.gz\n",
      "Collecting transformers>=4.0.0 (from flair)\n",
      "\u001b[?25l  Downloading https://files.pythonhosted.org/packages/8f/e9/c2b4c823b3959d475a570c1bd2df4125478e2e37b96fb967a87933ae7134/transformers-4.18.0-py3-none-any.whl (4.0MB)\n",
      "\u001b[K     |████████████████████████████████| 4.0MB 6.5MB/s eta 0:00:01\n",
      "\u001b[?25hCollecting deprecated>=1.2.4 (from flair)\n",
      "  Using cached https://files.pythonhosted.org/packages/51/6a/c3a0408646408f7283b7bc550c30a32cc791181ec4618592eec13e066ce3/Deprecated-1.2.13-py2.py3-none-any.whl\n",
      "Collecting langdetect (from flair)\n",
      "  Using cached https://files.pythonhosted.org/packages/0e/72/a3add0e4eec4eb9e2569554f7c70f4a3c27712f40e3284d483e88094cc0e/langdetect-1.0.9.tar.gz\n",
      "Collecting huggingface-hub (from flair)\n",
      "\u001b[?25l  Downloading https://files.pythonhosted.org/packages/de/87/93d615a8387118359ec688a5a322afac8d64cc2d45e414f6a7144e8315c9/huggingface_hub-0.5.1-py3-none-any.whl (77kB)\n",
      "\u001b[K     |████████████████████████████████| 81kB 11.6MB/s eta 0:00:01\n",
      "\u001b[?25hCollecting regex (from flair)\n",
      "\u001b[?25l  Downloading https://files.pythonhosted.org/packages/fc/05/a95de0d3b6b1611e302ecb4d692d26741b315c5c6b342f878eb37b9e8d30/regex-2022.3.15-cp37-cp37m-macosx_10_9_x86_64.whl (289kB)\n",
      "\u001b[K     |████████████████████████████████| 296kB 6.6MB/s eta 0:00:01\n",
      "\u001b[?25hCollecting janome (from flair)\n",
      "  Using cached https://files.pythonhosted.org/packages/2b/09/99a267382d699766366419773c2ef09e2dc4a033a4c48cc31b26bd509b04/Janome-0.4.2-py2.py3-none-any.whl\n",
      "Requirement already satisfied: lxml in /opt/anaconda3/lib/python3.7/site-packages (from flair) (4.4.1)\n",
      "Requirement already satisfied: torch!=1.8,>=1.5.0 in /opt/anaconda3/lib/python3.7/site-packages (from flair) (1.10.0)\n",
      "Collecting conllu>=4.0 (from flair)\n",
      "  Using cached https://files.pythonhosted.org/packages/7d/a2/b4830cf65865978095efd52cce123af351496de32fdc9b68b27ef2ed9518/conllu-4.4.1-py2.py3-none-any.whl\n",
      "Requirement already satisfied: scikit-learn>=0.21.3 in /opt/anaconda3/lib/python3.7/site-packages (from flair) (1.0)\n",
      "Collecting sqlitedict>=1.6.0 (from flair)\n",
      "  Using cached https://files.pythonhosted.org/packages/4f/62/78ee452667700a203cd2d442190c9da5774297a9d0b69dadc1a2e95e4027/sqlitedict-2.0.0.tar.gz\n",
      "Collecting tabulate (from flair)\n",
      "  Using cached https://files.pythonhosted.org/packages/ca/80/7c0cad11bd99985cfe7c09427ee0b4f9bd6b048bd13d4ffb32c6db237dfb/tabulate-0.8.9-py3-none-any.whl\n",
      "Requirement already satisfied: matplotlib>=2.2.3 in /opt/anaconda3/lib/python3.7/site-packages (from flair) (3.1.1)\n",
      "Collecting ftfy (from flair)\n",
      "  Using cached https://files.pythonhosted.org/packages/e1/1e/bf736f9576a8979752b826b75cbd83663ff86634ea3055a766e2d8ad3ee5/ftfy-6.1.1-py3-none-any.whl\n",
      "Requirement already satisfied: python-dateutil>=2.6.1 in /opt/anaconda3/lib/python3.7/site-packages (from flair) (2.8.0)\n",
      "Collecting gdown==3.12.2 (from flair)\n",
      "  Using cached https://files.pythonhosted.org/packages/50/21/92c3cfe56f5c0647145c4b0083d0733dd4890a057eb100a8eeddf949ffe9/gdown-3.12.2.tar.gz\n",
      "  Installing build dependencies ... \u001b[?25ldone\n",
      "\u001b[?25h  Getting requirements to build wheel ... \u001b[?25ldone\n",
      "\u001b[?25h    Preparing wheel metadata ... \u001b[?25ldone\n",
      "\u001b[?25hCollecting konoha<5.0.0,>=4.0.0 (from flair)\n",
      "  Using cached https://files.pythonhosted.org/packages/71/70/48a0bd55f79c328504fe6fe7ae8ff651f77a2aadbb1911701385d9bb5ca3/konoha-4.6.5-py3-none-any.whl\n",
      "Collecting mpld3==0.3 (from flair)\n",
      "  Using cached https://files.pythonhosted.org/packages/91/95/a52d3a83d0a29ba0d6898f6727e9858fe7a43f6c2ce81a5fe7e05f0f4912/mpld3-0.3.tar.gz\n",
      "Collecting segtok>=1.5.7 (from flair)\n",
      "  Using cached https://files.pythonhosted.org/packages/dd/60/d384dbae5d4756e33f1750fa3472303de2c827011907a64e213e114d0556/segtok-1.5.11-py3-none-any.whl\n",
      "Collecting gensim>=3.4.0 (from flair)\n",
      "\u001b[?25l  Downloading https://files.pythonhosted.org/packages/02/e0/6c4123d6bf463160f9ef6d9ea4336c71b99cb0591d94b5cce719a7d7a80d/gensim-4.1.2-cp37-cp37m-macosx_10_9_x86_64.whl (24.0MB)\n",
      "\u001b[K     |████████████████████████████████| 24.0MB 3.1MB/s eta 0:00:01\n",
      "\u001b[?25hCollecting hyperopt>=0.2.7 (from flair)\n",
      "  Using cached https://files.pythonhosted.org/packages/b6/cd/5b3334d39276067f54618ce0d0b48ed69d91352fbf137468c7095170d0e5/hyperopt-0.2.7-py2.py3-none-any.whl\n",
      "Collecting more-itertools~=8.8.0 (from flair)\n",
      "  Using cached https://files.pythonhosted.org/packages/5f/3c/e3ee43177a86b448c3fea1d090238c365ea1a80f015836a8a18fbbaccd63/more_itertools-8.8.0-py3-none-any.whl\n",
      "Collecting sentencepiece==0.1.95 (from flair)\n",
      "\u001b[?25l  Downloading https://files.pythonhosted.org/packages/40/62/ac0a3bf69c1149e509bc32c3efaf0a3e309a51ea3dfa8f8f7a42895c99fa/sentencepiece-0.1.95-cp37-cp37m-macosx_10_6_x86_64.whl (1.1MB)\n",
      "\u001b[K     |████████████████████████████████| 1.1MB 8.5MB/s eta 0:00:01\n",
      "\u001b[?25hCollecting bpemb>=0.3.2 (from flair)\n",
      "  Using cached https://files.pythonhosted.org/packages/f2/6f/9191b85109772636a8f8accb122900c34db26c091d2793218aa94954524c/bpemb-0.3.3-py3-none-any.whl\n",
      "Requirement already satisfied: requests in /opt/anaconda3/lib/python3.7/site-packages (from wikipedia-api->flair) (2.22.0)\n",
      "Collecting tokenizers!=0.11.3,<0.13,>=0.11.1 (from transformers>=4.0.0->flair)\n",
      "\u001b[?25l  Downloading https://files.pythonhosted.org/packages/8c/e6/745465cdc9ee4ab039f78a028437b96100927dc6d9a41d0c2e094304a834/tokenizers-0.12.1-cp37-cp37m-macosx_10_11_x86_64.whl (3.6MB)\n",
      "\u001b[K     |████████████████████████████████| 3.6MB 11.5MB/s eta 0:00:01\n",
      "\u001b[?25hRequirement already satisfied: importlib-metadata; python_version < \"3.8\" in /opt/anaconda3/lib/python3.7/site-packages (from transformers>=4.0.0->flair) (0.23)\n",
      "Collecting packaging>=20.0 (from transformers>=4.0.0->flair)\n",
      "  Using cached https://files.pythonhosted.org/packages/05/8e/8de486cbd03baba4deef4142bd643a3e7bbe954a784dc1bb17142572d127/packaging-21.3-py3-none-any.whl\n",
      "Requirement already satisfied: numpy>=1.17 in /opt/anaconda3/lib/python3.7/site-packages (from transformers>=4.0.0->flair) (1.21.3)\n",
      "Requirement already satisfied: filelock in /opt/anaconda3/lib/python3.7/site-packages (from transformers>=4.0.0->flair) (3.0.12)\n",
      "Collecting sacremoses (from transformers>=4.0.0->flair)\n",
      "\u001b[?25l  Downloading https://files.pythonhosted.org/packages/db/8b/37b90a3848ff71c0d05ebac5ee6d83f1f81e5f57f26b99a83ebff033303b/sacremoses-0.0.49-py3-none-any.whl (895kB)\n",
      "\u001b[K     |████████████████████████████████| 901kB 9.7MB/s eta 0:00:01\n",
      "\u001b[?25hRequirement already satisfied: pyyaml>=5.1 in /opt/anaconda3/lib/python3.7/site-packages (from transformers>=4.0.0->flair) (5.1.2)\n",
      "Requirement already satisfied: wrapt<2,>=1.10 in /opt/anaconda3/lib/python3.7/site-packages (from deprecated>=1.2.4->flair) (1.11.2)\n",
      "Requirement already satisfied: six in /opt/anaconda3/lib/python3.7/site-packages (from langdetect->flair) (1.12.0)\n",
      "Requirement already satisfied: typing-extensions>=3.7.4.3 in /opt/anaconda3/lib/python3.7/site-packages (from huggingface-hub->flair) (3.10.0.2)\n",
      "Requirement already satisfied: scipy>=1.1.0 in /opt/anaconda3/lib/python3.7/site-packages (from scikit-learn>=0.21.3->flair) (1.7.1)\n",
      "Requirement already satisfied: joblib>=0.11 in /opt/anaconda3/lib/python3.7/site-packages (from scikit-learn>=0.21.3->flair) (0.14.1)\n",
      "Requirement already satisfied: threadpoolctl>=2.0.0 in /opt/anaconda3/lib/python3.7/site-packages (from scikit-learn>=0.21.3->flair) (3.0.0)\n",
      "Requirement already satisfied: cycler>=0.10 in /opt/anaconda3/lib/python3.7/site-packages (from matplotlib>=2.2.3->flair) (0.10.0)\n",
      "Requirement already satisfied: kiwisolver>=1.0.1 in /opt/anaconda3/lib/python3.7/site-packages (from matplotlib>=2.2.3->flair) (1.1.0)\n",
      "Requirement already satisfied: pyparsing!=2.0.4,!=2.1.2,!=2.1.6,>=2.0.1 in /opt/anaconda3/lib/python3.7/site-packages (from matplotlib>=2.2.3->flair) (2.4.2)\n",
      "Collecting wcwidth>=0.2.5 (from ftfy->flair)\n",
      "  Using cached https://files.pythonhosted.org/packages/59/7c/e39aca596badaf1b78e8f547c807b04dae603a433d3e7a7e04d67f2ef3e5/wcwidth-0.2.5-py2.py3-none-any.whl\n",
      "Collecting overrides<4.0.0,>=3.0.0 (from konoha<5.0.0,>=4.0.0->flair)\n",
      "  Using cached https://files.pythonhosted.org/packages/ff/b1/10f69c00947518e6676bbd43e739733048de64b8dd998e9c2d5a71f44c5d/overrides-3.1.0.tar.gz\n",
      "Collecting smart-open>=1.8.1 (from gensim>=3.4.0->flair)\n",
      "  Using cached https://files.pythonhosted.org/packages/cd/11/05f68ea934c24ade38e95ac30a38407767787c4e3db1776eae4886ad8c95/smart_open-5.2.1-py3-none-any.whl\n",
      "Requirement already satisfied: networkx>=2.2 in /opt/anaconda3/lib/python3.7/site-packages (from hyperopt>=0.2.7->flair) (2.3)\n",
      "Requirement already satisfied: cloudpickle in /opt/anaconda3/lib/python3.7/site-packages (from hyperopt>=0.2.7->flair) (1.2.2)\n",
      "Requirement already satisfied: future in /opt/anaconda3/lib/python3.7/site-packages (from hyperopt>=0.2.7->flair) (0.18.2)\n",
      "Collecting py4j (from hyperopt>=0.2.7->flair)\n",
      "  Using cached https://files.pythonhosted.org/packages/86/ec/60880978512d5569ca4bf32b3b4d7776a528ecf4bca4523936c98c92a3c8/py4j-0.10.9.5-py2.py3-none-any.whl\n",
      "Requirement already satisfied: certifi>=2017.4.17 in /opt/anaconda3/lib/python3.7/site-packages (from requests->wikipedia-api->flair) (2019.9.11)\n",
      "Requirement already satisfied: idna<2.9,>=2.5 in /opt/anaconda3/lib/python3.7/site-packages (from requests->wikipedia-api->flair) (2.8)\n",
      "Requirement already satisfied: chardet<3.1.0,>=3.0.2 in /opt/anaconda3/lib/python3.7/site-packages (from requests->wikipedia-api->flair) (3.0.4)\n",
      "Collecting urllib3!=1.25.0,!=1.25.1,<1.26,>=1.21.1 (from requests->wikipedia-api->flair)\n",
      "\u001b[?25l  Downloading https://files.pythonhosted.org/packages/56/aa/4ef5aa67a9a62505db124a5cb5262332d1d4153462eb8fd89c9fa41e5d92/urllib3-1.25.11-py2.py3-none-any.whl (127kB)\n",
      "\u001b[K     |████████████████████████████████| 133kB 13.5MB/s eta 0:00:01\n",
      "\u001b[?25hRequirement already satisfied: zipp>=0.5 in /opt/anaconda3/lib/python3.7/site-packages (from importlib-metadata; python_version < \"3.8\"->transformers>=4.0.0->flair) (0.6.0)\n",
      "Requirement already satisfied: click in /opt/anaconda3/lib/python3.7/site-packages (from sacremoses->transformers>=4.0.0->flair) (7.0)\n",
      "Requirement already satisfied: setuptools in /opt/anaconda3/lib/python3.7/site-packages (from kiwisolver>=1.0.1->matplotlib>=2.2.3->flair) (41.4.0)\n",
      "Requirement already satisfied: decorator>=4.3.0 in /opt/anaconda3/lib/python3.7/site-packages (from networkx>=2.2->hyperopt>=0.2.7->flair) (4.4.0)\n",
      "Building wheels for collected packages: gdown\n",
      "  Building wheel for gdown (PEP 517) ... \u001b[?25ldone\n",
      "\u001b[?25h  Created wheel for gdown: filename=gdown-3.12.2-cp37-none-any.whl size=9691 sha256=9af1712839c014669d73a153ba139d9eb6536f4000ef6354d2bf6267d6f5c6d6\n",
      "  Stored in directory: /Users/zoubou/Library/Caches/pip/wheels/81/d0/d7/d9983facc6f2775411803e0e2d30ebf98efbf2fc6e57701e09\n",
      "Successfully built gdown\n",
      "Building wheels for collected packages: wikipedia-api, pptree, langdetect, sqlitedict, mpld3, overrides\n",
      "  Building wheel for wikipedia-api (setup.py) ... \u001b[?25ldone\n",
      "\u001b[?25h  Created wheel for wikipedia-api: filename=Wikipedia_API-0.5.4-cp37-none-any.whl size=13461 sha256=29efd01623ae97b7420988cacf05640bc55b35b4facb1154805d10da1cbbcea2\n",
      "  Stored in directory: /Users/zoubou/Library/Caches/pip/wheels/bf/40/42/ba1d497f3712281b659dd65b566fc868035c859239571a725a\n",
      "  Building wheel for pptree (setup.py) ... \u001b[?25ldone\n",
      "\u001b[?25h  Created wheel for pptree: filename=pptree-3.1-cp37-none-any.whl size=4629 sha256=f0b191fdafe0c6a07a6745a8bc39846a1d11852ba7f483285958d0a662d6db3f\n",
      "  Stored in directory: /Users/zoubou/Library/Caches/pip/wheels/ff/bf/ee/8b67eb5467e12cf1bd0125df70d8c9f076bd7ea225b5bcea9b\n",
      "  Building wheel for langdetect (setup.py) ... \u001b[?25ldone\n",
      "\u001b[?25h  Created wheel for langdetect: filename=langdetect-1.0.9-cp37-none-any.whl size=993224 sha256=2ea6e705764f30bab53a88393ad967ac78f2e4292b2a9abb74480172f5bacebe\n",
      "  Stored in directory: /Users/zoubou/Library/Caches/pip/wheels/7e/18/13/038c34057808931c7ddc6c92d3aa015cf1a498df5a70268996\n",
      "  Building wheel for sqlitedict (setup.py) ... \u001b[?25ldone\n",
      "\u001b[?25h  Created wheel for sqlitedict: filename=sqlitedict-2.0.0-cp37-none-any.whl size=15719 sha256=6c2d260b87e07978e39801d315128ceacbbedbb22dbb4c7e40cbe1623f6f0923\n",
      "  Stored in directory: /Users/zoubou/Library/Caches/pip/wheels/96/1c/30/cb719460f3a15565229d1df840631fd7e866bff507004c8429\n",
      "  Building wheel for mpld3 (setup.py) ... \u001b[?25ldone\n",
      "\u001b[?25h  Created wheel for mpld3: filename=mpld3-0.3-cp37-none-any.whl size=116678 sha256=aae2a52fccbfec9c26945130f3c51af6dd8675acfb6da5a3cd8323741e273db2\n",
      "  Stored in directory: /Users/zoubou/Library/Caches/pip/wheels/c0/47/fb/8a64f89aecfe0059830479308ad42d62e898a3e3cefdf6ba28\n",
      "  Building wheel for overrides (setup.py) ... \u001b[?25ldone\n",
      "\u001b[?25h  Created wheel for overrides: filename=overrides-3.1.0-cp37-none-any.whl size=10174 sha256=ab25d54e6c8e15b5fc7732bbf79dcc35d6d9c449d6a40d14202fb3cbd0b88c02\n",
      "  Stored in directory: /Users/zoubou/Library/Caches/pip/wheels/5c/24/13/6ef8600e6f147c95e595f1289a86a3cc82ed65df57582c65a9\n",
      "Successfully built wikipedia-api pptree langdetect sqlitedict mpld3 overrides\n",
      "\u001b[31mERROR: konoha 4.6.5 has requirement importlib-metadata<4.0.0,>=3.7.0, but you'll have importlib-metadata 0.23 which is incompatible.\u001b[0m\n",
      "\u001b[31mERROR: konoha 4.6.5 has requirement requests<3.0.0,>=2.25.1, but you'll have requests 2.22.0 which is incompatible.\u001b[0m\n",
      "Installing collected packages: wikipedia-api, pptree, tokenizers, packaging, huggingface-hub, regex, sacremoses, transformers, deprecated, langdetect, janome, conllu, sqlitedict, tabulate, wcwidth, ftfy, gdown, overrides, konoha, mpld3, segtok, smart-open, gensim, py4j, hyperopt, more-itertools, sentencepiece, bpemb, flair, urllib3\n",
      "  Found existing installation: packaging 19.2\n",
      "    Uninstalling packaging-19.2:\n",
      "      Successfully uninstalled packaging-19.2\n",
      "  Found existing installation: wcwidth 0.1.7\n",
      "    Uninstalling wcwidth-0.1.7:\n",
      "      Successfully uninstalled wcwidth-0.1.7\n",
      "  Found existing installation: more-itertools 7.2.0\n",
      "    Uninstalling more-itertools-7.2.0:\n",
      "      Successfully uninstalled more-itertools-7.2.0\n",
      "  Found existing installation: urllib3 1.26.7\n",
      "    Uninstalling urllib3-1.26.7:\n",
      "      Successfully uninstalled urllib3-1.26.7\n",
      "Successfully installed bpemb-0.3.3 conllu-4.4.1 deprecated-1.2.13 flair-0.11.1 ftfy-6.1.1 gdown-3.12.2 gensim-4.1.2 huggingface-hub-0.5.1 hyperopt-0.2.7 janome-0.4.2 konoha-4.6.5 langdetect-1.0.9 more-itertools-8.8.0 mpld3-0.3 overrides-3.1.0 packaging-21.3 pptree-3.1 py4j-0.10.9.5 regex-2022.3.15 sacremoses-0.0.49 segtok-1.5.11 sentencepiece-0.1.95 smart-open-5.2.1 sqlitedict-2.0.0 tabulate-0.8.9 tokenizers-0.12.1 transformers-4.18.0 urllib3-1.25.11 wcwidth-0.2.5 wikipedia-api-0.5.4\n"
     ]
    }
   ],
   "source": [
    "! pip install flair"
   ]
  },
  {
   "cell_type": "code",
   "execution_count": 6,
   "metadata": {},
   "outputs": [],
   "source": [
    "from flair.embeddings import TransformerWordEmbeddings\n",
    "from flair.data import Sentence\n",
    "\n",
    "import numpy as np"
   ]
  },
  {
   "cell_type": "code",
   "execution_count": 7,
   "metadata": {},
   "outputs": [],
   "source": [
    "embedding = TransformerWordEmbeddings()\n",
    "\n",
    "sent = Sentence('a random sentence is typed here.', use_tokenizer=True)\n",
    "embedding.embed(sent)\n",
    "\n",
    "sent_em = np.array([s.embedding.cpu().numpy() for s in sent])\n",
    "\n",
    "sent_avg = np.mean(sent_em, axis=0)"
   ]
  },
  {
   "cell_type": "code",
   "execution_count": 13,
   "metadata": {},
   "outputs": [
    {
     "data": {
      "text/plain": [
       "flair.data.Sentence"
      ]
     },
     "execution_count": 13,
     "metadata": {},
     "output_type": "execute_result"
    }
   ],
   "source": [
    "type(sent)"
   ]
  },
  {
   "cell_type": "markdown",
   "metadata": {},
   "source": []
  }
 ],
 "metadata": {
  "interpreter": {
   "hash": "31f2aee4e71d21fbe5cf8b01ff0e069b9275f58929596ceb00d14d90e3e16cd6"
  },
  "kernelspec": {
   "display_name": "Python 3.8.9 64-bit",
   "language": "python",
   "name": "python3"
  },
  "language_info": {
   "codemirror_mode": {
    "name": "ipython",
    "version": 3
   },
   "file_extension": ".py",
   "mimetype": "text/x-python",
   "name": "python",
   "nbconvert_exporter": "python",
   "pygments_lexer": "ipython3",
   "version": "3.7.4"
  },
  "orig_nbformat": 4
 },
 "nbformat": 4,
 "nbformat_minor": 2
}
