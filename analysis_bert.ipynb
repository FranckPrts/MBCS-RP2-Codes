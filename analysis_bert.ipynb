{
 "cells": [
  {
   "cell_type": "markdown",
   "metadata": {},
   "source": [
    "## Reading JSON transcripts / Bert / Semantic similarity\n",
    "- [Hugging facer repo](https://huggingface.co/models?library=flair&sort=downloads)\n",
    "- [Flair embedinggs](https://github.com/flairNLP/flair/blob/master/resources/docs/embeddings/TRANSFORMER_EMBEDDINGS.md)"
   ]
  },
  {
   "cell_type": "markdown",
   "metadata": {},
   "source": [
    "Code of the class used here --> [link](https://github.com/FranckPrts/MBCS-RP2-Codes/blob/master/utils/speech_sw.py)"
   ]
  },
  {
   "cell_type": "markdown",
   "metadata": {},
   "source": [
    "## Reading the transcripts"
   ]
  },
  {
   "cell_type": "code",
   "execution_count": 1,
   "metadata": {},
   "outputs": [],
   "source": [
    "# Import the class\n",
    "from utils.speech_sw import read_dialogue\n",
    "\n",
    "# Define path to transcripts\n",
    "path = \"../Transcripts/\"\n",
    "path += \"SAMPLE.json\"\n",
    "\n",
    "# Innit class\n",
    "speech = read_dialogue(path)"
   ]
  },
  {
   "cell_type": "code",
   "execution_count": 2,
   "metadata": {},
   "outputs": [
    {
     "name": "stdout",
     "output_type": "stream",
     "text": [
      "Using 38.600000 42.000000 time window\n",
      "Starting dialogue extraction ...\n",
      "[38.600000 - 40.700000] \tSpeacker: 1 \t\tWord: she\n",
      "[40.700000 - 41.000000] \tSpeacker: 1 \t\tWord: like\n",
      "[41.000000 - 41.700000] \tSpeacker: 2 \t\tWord: come\n",
      "[41.700000 - 41.800000] \tSpeacker: 2 \t\tWord: to\n",
      "[41.800000 - 41.900000] \tSpeacker: 2 \t\tWord: my\n",
      "Dialogue extracted.\n"
     ]
    }
   ],
   "source": [
    "speech.select_sw(sw_min=38.6, sw_max=42)"
   ]
  },
  {
   "cell_type": "markdown",
   "metadata": {},
   "source": [
    "See the contribution of each participant to the dialogue:"
   ]
  },
  {
   "cell_type": "code",
   "execution_count": 3,
   "metadata": {},
   "outputs": [
    {
     "name": "stdout",
     "output_type": "stream",
     "text": [
      "Text from speaker 1 :  ['she', 'like']\n",
      "Text from speaker 2 :  ['come', 'to', 'my']\n"
     ]
    }
   ],
   "source": [
    "print(\"Text from speaker 1 : \", speech.sub1_speech_list)\n",
    "print(\"Text from speaker 2 : \", speech.sub2_speech_list)"
   ]
  },
  {
   "cell_type": "markdown",
   "metadata": {},
   "source": [
    "We now embed these two dialogue segment using `TransformerWordEmbeddings`:"
   ]
  },
  {
   "cell_type": "code",
   "execution_count": 4,
   "metadata": {},
   "outputs": [
    {
     "name": "stdout",
     "output_type": "stream",
     "text": [
      "Starting dialogue embeding ...\n",
      "Dialogue embeded.\n"
     ]
    }
   ],
   "source": [
    "speech.embed_dialogue()"
   ]
  },
  {
   "cell_type": "code",
   "execution_count": 5,
   "metadata": {},
   "outputs": [
    {
     "data": {
      "text/plain": [
       "array([[ 0.29050165, -0.12295686, -0.43003008, ..., -0.46464095,\n",
       "         0.43868974,  0.12153671],\n",
       "       [ 0.66132706, -0.14788616,  0.04405237, ...,  0.11520121,\n",
       "         0.39280817, -0.09548892]], dtype=float32)"
      ]
     },
     "execution_count": 5,
     "metadata": {},
     "output_type": "execute_result"
    }
   ],
   "source": [
    "speech.sub1_speech_embed"
   ]
  },
  {
   "cell_type": "markdown",
   "metadata": {},
   "source": [
    "## Archives"
   ]
  },
  {
   "cell_type": "code",
   "execution_count": null,
   "metadata": {},
   "outputs": [],
   "source": [
    "# speech.dialogue is a dict \n",
    "print(speech.dialogue.keys())\n",
    "print(len(speech.dialogue[\"results\"]))"
   ]
  },
  {
   "cell_type": "markdown",
   "metadata": {},
   "source": [
    "There is 14 results available in our sample. \n",
    "\n",
    "13 sentences, each containing a list of all the \n",
    "\n",
    "- confidence\n",
    "- startTime\n",
    "- endTime\n",
    "- word\n",
    "\n",
    "\n",
    "1 list of all the words, with their   <-- This is our element of interest\n",
    "\n",
    "- confidence\n",
    "- startTime\n",
    "- endTime\n",
    "- **speakerTag**\n",
    "- word\n",
    "\n",
    "Because we're interrested in sampling words that fall within a time window, we'll use the last element of the JSON which provide the following (confidence, startTime, endTime, speakerTag, word)."
   ]
  },
  {
   "cell_type": "markdown",
   "metadata": {},
   "source": [
    "Let's see how many word we have and let's also print the 350th word information."
   ]
  },
  {
   "cell_type": "code",
   "execution_count": null,
   "metadata": {},
   "outputs": [],
   "source": [
    "print(\"There is %i in that transcript\" % len(speech.dialogue[\"results\"][13][\"alternatives\"][0][\"words\"]))\n",
    "print(\"Here are the infos for the 349th word\")\n",
    "print(speech.dialogue[\"results\"][13][\"alternatives\"][0][\"words\"][349])"
   ]
  },
  {
   "cell_type": "code",
   "execution_count": null,
   "metadata": {},
   "outputs": [],
   "source": [
    "# Exploring the 13 individual sentence object\n",
    "print(\"Each available keys for each sentence\")\n",
    "print(speech.dialogue[\"results\"][1].keys())\n",
    "\n",
    "print(\"\\nThere is %i alternative in our transcription\" % len(speech.dialogue[\"results\"][0][\"alternatives\"]))\n",
    "print(\"This alternative has %i keys \" % len(speech.dialogue[\"results\"][0][\"alternatives\"][0].keys()))\n",
    "print('Which are:')\n",
    "print(speech.dialogue[\"results\"][0][\"alternatives\"][0].keys())\n",
    "\n",
    "print(\"\\nWith 'words' being a dict with all the sentence's words and their attributes\")\n",
    "speech.dialogue[\"results\"][0][\"alternatives\"][0][\"words\"]"
   ]
  }
 ],
 "metadata": {
  "interpreter": {
   "hash": "31f2aee4e71d21fbe5cf8b01ff0e069b9275f58929596ceb00d14d90e3e16cd6"
  },
  "kernelspec": {
   "display_name": "Python 3.8.9 64-bit",
   "language": "python",
   "name": "python3"
  },
  "language_info": {
   "codemirror_mode": {
    "name": "ipython",
    "version": 3
   },
   "file_extension": ".py",
   "mimetype": "text/x-python",
   "name": "python",
   "nbconvert_exporter": "python",
   "pygments_lexer": "ipython3",
   "version": "3.7.4"
  },
  "orig_nbformat": 4
 },
 "nbformat": 4,
 "nbformat_minor": 2
}
